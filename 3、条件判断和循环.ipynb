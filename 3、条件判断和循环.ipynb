{
 "cells": [
  {
   "cell_type": "markdown",
   "metadata": {},
   "source": [
    "# 条件判断和循环"
   ]
  },
  {
   "cell_type": "markdown",
   "metadata": {},
   "source": [
    "    前边两节课我们讲到了python中的基础数据类型以及常用的函数，今天呢，我们来讲解\n",
    "    条件判断和循环\n",
    "\n",
    "    其实程序是对我们生活的一种模拟，而我们的生活中到处存在着判断，尤其是经济活动\n",
    "    比如商场打折，满200打八折，要判断你的消费金额是否满200；\n",
    "    比如会员日活动，会员消费打九折，要判断你是否是会员；\n",
    "    比如促销类商品打五折，要判断你购买的商品是否是促销商品；\n",
    "    等等\n",
    "\n",
    "    所有这些我们都用到了判断，那么判断在编程中如何表示呢，我们今天就来学习一下"
   ]
  },
  {
   "cell_type": "markdown",
   "metadata": {},
   "source": [
    "    在学习条件判断之前我们再来学习一种数据类型：布尔类型 bool"
   ]
  },
  {
   "cell_type": "markdown",
   "metadata": {},
   "source": [
    "    布尔类型就两种值：真和假，True、False\n",
    "    实际上，True就是int值1，False就是int值0\n",
    "    \n",
    "    很多情况下我们可以产生布尔变量，这里例句一下："
   ]
  },
  {
   "cell_type": "markdown",
   "metadata": {},
   "source": [
    "x == y \n",
    "x < y\n",
    "x > y\n",
    "x <= y\n",
    "x >= y\n",
    "x != y\n",
    "x is y\n",
    "x is not y\n",
    "x in y \n",
    "x not in y"
   ]
  },
  {
   "cell_type": "markdown",
   "metadata": {},
   "source": [
    "    除了这些比较运算符之外，其实python中的任何值都可以转变为布尔类型；在python中，空列表、空字符串、空元祖、空字典，0\n",
    "    都可以被当做false，其他的都可以当做True，\n",
    "    显示转换为 bool()\n",
    "    但一般不使用显示转换，在条件判断或者做布尔运算时，会隐式转换"
   ]
  },
  {
   "cell_type": "markdown",
   "metadata": {},
   "source": [
    "    因为True和False实际的值为1和0，但任何时候都不建议把True和False当做数值去运算\n",
    "    因为一个布尔值跟一个int值做运算，没有理论的意义\n",
    "    \n",
    "    不建议不是说不能做，艺高人胆大"
   ]
  },
  {
   "cell_type": "markdown",
   "metadata": {},
   "source": [
    "## 条件判断"
   ]
  },
  {
   "cell_type": "code",
   "execution_count": 6,
   "metadata": {
    "collapsed": false
   },
   "outputs": [
    {
     "name": "stdout",
     "output_type": "stream",
     "text": [
      "10>2\n"
     ]
    }
   ],
   "source": [
    "if 10>2:\n",
    "    print('10>2')\n",
    "else:\n",
    "    print('10<2')"
   ]
  },
  {
   "cell_type": "code",
   "execution_count": null,
   "metadata": {
    "collapsed": true
   },
   "outputs": [],
   "source": [
    "# if else 有很多变种，可以只写if而不else，也可以嵌套，中间可以跟多条件判断 比如 if elif ... else"
   ]
  },
  {
   "cell_type": "markdown",
   "metadata": {},
   "source": [
    "## 布尔运算"
   ]
  },
  {
   "cell_type": "markdown",
   "metadata": {},
   "source": [
    "    and 与运算\n",
    "    or 或运算\n",
    "    not 非运算"
   ]
  },
  {
   "cell_type": "markdown",
   "metadata": {},
   "source": [
    "## 循环"
   ]
  },
  {
   "cell_type": "markdown",
   "metadata": {},
   "source": [
    "### for 循环 --- 遍历循环"
   ]
  },
  {
   "cell_type": "markdown",
   "metadata": {},
   "source": [
    "    比方说我们有一个列表，我们想遍历里边的数据，这个时候我们就需要用到for循环"
   ]
  },
  {
   "cell_type": "code",
   "execution_count": 18,
   "metadata": {
    "collapsed": false
   },
   "outputs": [
    {
     "name": "stdout",
     "output_type": "stream",
     "text": [
      ".DS_Store\n",
      ".git\n",
      ".ipynb_checkpoints\n",
      "1、字符串和数值.ipynb\n",
      "2、列表和字典.ipynb\n",
      "3、条件判断和循环.ipynb\n",
      "__pycache__\n"
     ]
    }
   ],
   "source": [
    "import os\n",
    "\n",
    "files = os.listdir()\n",
    "\n",
    "for file in files:\n",
    "    print(file)"
   ]
  },
  {
   "cell_type": "markdown",
   "metadata": {},
   "source": [
    "### 遍历工具"
   ]
  },
  {
   "cell_type": "code",
   "execution_count": null,
   "metadata": {
    "collapsed": true
   },
   "outputs": [],
   "source": [
    "enumerate; zip"
   ]
  },
  {
   "cell_type": "markdown",
   "metadata": {},
   "source": [
    "### while 循环"
   ]
  },
  {
   "cell_type": "markdown",
   "metadata": {},
   "source": [
    "    有时候我们不是要遍历一个序列，而是要一直做一件事，直到达到一个条件。\n",
    "    比如注册，用户登录，如果用户输不对密码，就让他一直输入，直到输入为止，这里我们来模拟一下"
   ]
  },
  {
   "cell_type": "code",
   "execution_count": 21,
   "metadata": {
    "collapsed": false
   },
   "outputs": [
    {
     "name": "stdout",
     "output_type": "stream",
     "text": [
      "input your namedrama\n",
      "input your password23\n",
      "wrong name or password\n",
      "input your namedrama\n",
      "input your password123456\n",
      "success\n",
      "lskdjf\n"
     ]
    }
   ],
   "source": [
    "status = True\n",
    "while status:\n",
    "    name = input('input your name')\n",
    "    password = input('input your password')\n",
    "\n",
    "    if name == 'drama' and password == '123456':\n",
    "        print('success')\n",
    "        status = False\n",
    "    else:\n",
    "        print('wrong name or password')"
   ]
  },
  {
   "cell_type": "code",
   "execution_count": null,
   "metadata": {
    "collapsed": true
   },
   "outputs": [],
   "source": [
    "对于简单的情况，我们可以把条件判断写在while后边，但是很多时候条件判断比较复杂，那这个时候就不太适合\n",
    "把条件写到while后面"
   ]
  },
  {
   "cell_type": "markdown",
   "metadata": {},
   "source": [
    "### 循环中的 break continue else"
   ]
  },
  {
   "cell_type": "code",
   "execution_count": null,
   "metadata": {
    "collapsed": true
   },
   "outputs": [],
   "source": [
    "break 跳出整个循环\n",
    "continue 跳出当前循环\n",
    "else 循环中没有遇到break"
   ]
  },
  {
   "cell_type": "code",
   "execution_count": 22,
   "metadata": {
    "collapsed": false
   },
   "outputs": [
    {
     "name": "stdout",
     "output_type": "stream",
     "text": [
      "input your namedrama\n",
      "input your password23\n",
      "wrong name or password\n",
      "input your namedrama\n",
      "input your password123456\n",
      "success\n"
     ]
    }
   ],
   "source": [
    "while True:\n",
    "    name = input('input your name')\n",
    "    password = input('input your password')\n",
    "\n",
    "    if name == 'drama' and password == '123456':\n",
    "        print('success')\n",
    "        break\n",
    "    else:\n",
    "        print('wrong name or password')\n",
    "        \n",
    "# 当然这种情况就不适合用 else了，因为while循环的出口是break，这样else就永远不会执行到"
   ]
  },
  {
   "cell_type": "markdown",
   "metadata": {},
   "source": [
    "## 列表推导式"
   ]
  },
  {
   "cell_type": "markdown",
   "metadata": {},
   "source": [
    "    很多时候我们需要通过一个序列得到一个列表，这个时候我们就会用到列表推到式"
   ]
  },
  {
   "cell_type": "code",
   "execution_count": 32,
   "metadata": {
    "collapsed": false
   },
   "outputs": [
    {
     "name": "stdout",
     "output_type": "stream",
     "text": [
      "<class 'list'>\n"
     ]
    }
   ],
   "source": [
    "# 得到一个随机数列表\n",
    "import random\n",
    "\n",
    "numbers= [random.randint(0, 10) for i in range(10)]\n",
    "print(type(numbers))"
   ]
  },
  {
   "cell_type": "markdown",
   "metadata": {},
   "source": [
    "## 字典推导式"
   ]
  },
  {
   "cell_type": "code",
   "execution_count": 29,
   "metadata": {
    "collapsed": false
   },
   "outputs": [
    {
     "data": {
      "text/plain": [
       "{'hanmeimei': 88, 'haojian': 90, 'lilei': 99}"
      ]
     },
     "execution_count": 29,
     "metadata": {},
     "output_type": "execute_result"
    }
   ],
   "source": [
    "names = ['lilei', 'hanmeimei', 'haojian']\n",
    "scores = [99, 88, 90]\n",
    "dict(zip(names, scores))"
   ]
  },
  {
   "cell_type": "code",
   "execution_count": 30,
   "metadata": {
    "collapsed": false
   },
   "outputs": [
    {
     "data": {
      "text/plain": [
       "{'hanmeimei': 88, 'haojian': 90, 'lilei': 99}"
      ]
     },
     "execution_count": 30,
     "metadata": {},
     "output_type": "execute_result"
    }
   ],
   "source": [
    "{name: score for name, score in zip(names, scores)}"
   ]
  },
  {
   "cell_type": "markdown",
   "metadata": {},
   "source": [
    "## 生成器"
   ]
  },
  {
   "cell_type": "markdown",
   "metadata": {},
   "source": [
    "    生成器跟列表推导式的写法非常相似，只是把中括号变为小括号就可以了"
   ]
  },
  {
   "cell_type": "code",
   "execution_count": 46,
   "metadata": {
    "collapsed": false
   },
   "outputs": [
    {
     "name": "stdout",
     "output_type": "stream",
     "text": [
      "<class 'generator'>\n",
      "0\n",
      "4\n",
      "8\n",
      "7\n",
      "10\n",
      "7\n",
      "7\n",
      "2\n",
      "2\n",
      "2\n"
     ]
    }
   ],
   "source": [
    "import random\n",
    "\n",
    "numbers= (random.randint(0, 10) for i in range(10))\n",
    "print(type(numbers))\n",
    "\n",
    "for i in numbers:\n",
    "    print(i)"
   ]
  },
  {
   "cell_type": "markdown",
   "metadata": {},
   "source": [
    "    使用生成器推导式并没有一次性把迭代对象的每个元素都生成出来，因此也就不占用太多内存；\n",
    "    另外生成器只能生成一次，一次之后就不能再使用了\n",
    "\n",
    "    明天的课程中，我们会在讲解一种产生生成器的方法"
   ]
  }
 ],
 "metadata": {
  "kernelspec": {
   "display_name": "Python 3",
   "language": "python",
   "name": "python3"
  },
  "language_info": {
   "codemirror_mode": {
    "name": "ipython",
    "version": 3
   },
   "file_extension": ".py",
   "mimetype": "text/x-python",
   "name": "python",
   "nbconvert_exporter": "python",
   "pygments_lexer": "ipython3",
   "version": "3.6.0"
  },
  "toc": {
   "nav_menu": {},
   "number_sections": true,
   "sideBar": true,
   "skip_h1_title": false,
   "toc_cell": false,
   "toc_position": {},
   "toc_section_display": "block",
   "toc_window_display": true
  }
 },
 "nbformat": 4,
 "nbformat_minor": 2
}
